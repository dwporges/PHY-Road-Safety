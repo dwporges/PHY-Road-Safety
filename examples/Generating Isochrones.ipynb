{
 "cells": [
  {
   "metadata": {},
   "cell_type": "markdown",
   "source": "# Generating Isochrones",
   "id": "97bd5a5f89a325d0"
  },
  {
   "metadata": {},
   "cell_type": "markdown",
   "source": "This notebook demonstrates how to generate isochrones from a point using the ORS API, and how to read this data in using geopandas in a useful format.",
   "id": "efd4a7d71293d0b8"
  },
  {
   "metadata": {},
   "cell_type": "markdown",
   "source": [
    "## Step 1: Have a suitable file containing the locations and coordinates of the locations you wish to create isochrones for\n",
    "This example will use 'places.gpkg' which contains some locations around Sheffield. It is created manually and saved as a geopackage (.gpkg) file, but you can read in a csv file using geopandas and setting the geometry column. \\\n",
    "You should then run gdf.apply(shapely.wkt.loads) to convert the geometry column to a shapely geometry object."
   ],
   "id": "41dcd60218bf4ba"
  },
  {
   "cell_type": "code",
   "id": "initial_id",
   "metadata": {
    "collapsed": true,
    "ExecuteTime": {
     "end_time": "2025-05-13T11:42:14.914696Z",
     "start_time": "2025-05-13T11:42:14.910697Z"
    }
   },
   "source": [
    "import geopandas as gpd\n",
    "\n",
    "places = gpd.GeoDataFrame(columns=['place', 'geometry']).set_geometry('geometry')"
   ],
   "outputs": [],
   "execution_count": 3
  },
  {
   "metadata": {
    "ExecuteTime": {
     "end_time": "2025-05-13T11:43:15.005687Z",
     "start_time": "2025-05-13T11:43:14.894575Z"
    }
   },
   "cell_type": "code",
   "source": [
    "from shapely.geometry import Point\n",
    "\n",
    "places['place'] = ['Hicks Building', 'Town Hall', 'Cathedral']\n",
    "places['geometry'] = [Point(-1.4864929, 53.3812259), Point(-1.4722871, 53.3805888), Point(-1.4693460, 53.3831771)]\n",
    "\n",
    "places.set_crs('epsg:4326', inplace=True)\n",
    "places.to_file('places.gpkg', driver='GPKG', engine='fiona')"
   ],
   "id": "74303f14b053be41",
   "outputs": [],
   "execution_count": 5
  },
  {
   "metadata": {
    "ExecuteTime": {
     "end_time": "2025-05-13T11:43:22.509887Z",
     "start_time": "2025-05-13T11:43:22.505235Z"
    }
   },
   "cell_type": "code",
   "source": "places",
   "id": "d544cc5ea18a0ada",
   "outputs": [
    {
     "data": {
      "text/plain": [
       "            place                   geometry\n",
       "0  Hicks Building  POINT (-1.48649 53.38123)\n",
       "1       Town Hall  POINT (-1.47229 53.38059)\n",
       "2       Cathedral  POINT (-1.46935 53.38318)"
      ],
      "text/html": [
       "<div>\n",
       "<style scoped>\n",
       "    .dataframe tbody tr th:only-of-type {\n",
       "        vertical-align: middle;\n",
       "    }\n",
       "\n",
       "    .dataframe tbody tr th {\n",
       "        vertical-align: top;\n",
       "    }\n",
       "\n",
       "    .dataframe thead th {\n",
       "        text-align: right;\n",
       "    }\n",
       "</style>\n",
       "<table border=\"1\" class=\"dataframe\">\n",
       "  <thead>\n",
       "    <tr style=\"text-align: right;\">\n",
       "      <th></th>\n",
       "      <th>place</th>\n",
       "      <th>geometry</th>\n",
       "    </tr>\n",
       "  </thead>\n",
       "  <tbody>\n",
       "    <tr>\n",
       "      <th>0</th>\n",
       "      <td>Hicks Building</td>\n",
       "      <td>POINT (-1.48649 53.38123)</td>\n",
       "    </tr>\n",
       "    <tr>\n",
       "      <th>1</th>\n",
       "      <td>Town Hall</td>\n",
       "      <td>POINT (-1.47229 53.38059)</td>\n",
       "    </tr>\n",
       "    <tr>\n",
       "      <th>2</th>\n",
       "      <td>Cathedral</td>\n",
       "      <td>POINT (-1.46935 53.38318)</td>\n",
       "    </tr>\n",
       "  </tbody>\n",
       "</table>\n",
       "</div>"
      ]
     },
     "execution_count": 6,
     "metadata": {},
     "output_type": "execute_result"
    }
   ],
   "execution_count": 6
  },
  {
   "metadata": {},
   "cell_type": "markdown",
   "source": [
    "After obtaining a suitable geodataframe and saving at a geopackage, you can read the data into QGIS \\\n",
    "Layer -> Add Layer -> Add Vector Layer -> Select the file under 'source' -> click 'Add'\n",
    "\n",
    "![](images/IsochronesQGISExample.png)\n",
    "\n",
    "Now install the ORS Tools plugin in QGIS \\\n",
    "Plugins -> Manage and Install Plugins -> Search for 'ORS Tools' -> Install Plugin \\\n",
    "Look for the new 'ORS Tools' tab in the top bar of QGIS. (default shortcut is Ctrl+R, but this may be different on your system)\n",
    "\n",
    "![](images/IsochronesQGISPlugin.png)"
   ],
   "id": "e16e6451a03c64e7"
  },
  {
   "metadata": {},
   "cell_type": "markdown",
   "source": [
    "Click on the settings wheel next to the 'provider' field and paste your ORS API key into the 'API Key' field. \\\n",
    "\\\n",
    "You can obtain an API key by signing up for a free account on the OpenRouteService website. \\\n",
    "\\\n",
    "![](Images/IsochronesQGISAPIKey.png)\n",
    "\\\n",
    "Generate the isochrones \\\n",
    "Batch Jobs -> Isochrones From Layer -> Select desired parameters -> Run \\\n",
    "The parameter 'Input Layer ID Field' should be set to the name of the column in your input layer that contains the names of the locations so that it can be merged with the places dataframe \\\n",
    "\\\n",
    "![](images/IsochronesParametersExample.png)"
   ],
   "id": "31900cdd94339d8f"
  },
  {
   "metadata": {},
   "cell_type": "markdown",
   "source": [
    "You can then save the output layer as a geopackage file by right clicking on the layer in the 'Layers' panel and selecting 'Export' -> 'Save Features As...' \\\n",
    "The saved file will have a geometry column with the isochrone polygons, and the coordinates of the original points in the 'CENTER_LON' and 'CENTER_LAT' columns. \\"
   ],
   "id": "6be7a443ca2b3e90"
  },
  {
   "metadata": {
    "ExecuteTime": {
     "end_time": "2025-05-13T12:03:10.711188Z",
     "start_time": "2025-05-13T12:03:10.704173Z"
    }
   },
   "cell_type": "code",
   "source": "isochrones = gpd.read_file('isochrones.gpkg')",
   "id": "976a9f5d0345ba03",
   "outputs": [],
   "execution_count": 9
  },
  {
   "metadata": {
    "ExecuteTime": {
     "end_time": "2025-05-13T12:03:11.262755Z",
     "start_time": "2025-05-13T12:03:11.258098Z"
    }
   },
   "cell_type": "code",
   "source": "isochrones",
   "id": "60449fd3876df1ac",
   "outputs": [
    {
     "data": {
      "text/plain": [
       "            CENTER_LON         CENTER_LAT  AA_METERS       AA_MODE TOTAL_POP  \\\n",
       "0  -1.4864656622895907  53.38123290077746       1000  foot-walking     27508   \n",
       "1  -1.4721797331394337  53.38037667966202       1000  foot-walking     24151   \n",
       "2           -1.4693382         53.3830177       1000  foot-walking     20865   \n",
       "\n",
       "                                            geometry  \n",
       "0  POLYGON ((-1.50081 53.37849, -1.50029 53.37709...  \n",
       "1  POLYGON ((-1.48716 53.37802, -1.48715 53.37795...  \n",
       "2  POLYGON ((-1.48472 53.38114, -1.4847 53.38105,...  "
      ],
      "text/html": [
       "<div>\n",
       "<style scoped>\n",
       "    .dataframe tbody tr th:only-of-type {\n",
       "        vertical-align: middle;\n",
       "    }\n",
       "\n",
       "    .dataframe tbody tr th {\n",
       "        vertical-align: top;\n",
       "    }\n",
       "\n",
       "    .dataframe thead th {\n",
       "        text-align: right;\n",
       "    }\n",
       "</style>\n",
       "<table border=\"1\" class=\"dataframe\">\n",
       "  <thead>\n",
       "    <tr style=\"text-align: right;\">\n",
       "      <th></th>\n",
       "      <th>CENTER_LON</th>\n",
       "      <th>CENTER_LAT</th>\n",
       "      <th>AA_METERS</th>\n",
       "      <th>AA_MODE</th>\n",
       "      <th>TOTAL_POP</th>\n",
       "      <th>geometry</th>\n",
       "    </tr>\n",
       "  </thead>\n",
       "  <tbody>\n",
       "    <tr>\n",
       "      <th>0</th>\n",
       "      <td>-1.4864656622895907</td>\n",
       "      <td>53.38123290077746</td>\n",
       "      <td>1000</td>\n",
       "      <td>foot-walking</td>\n",
       "      <td>27508</td>\n",
       "      <td>POLYGON ((-1.50081 53.37849, -1.50029 53.37709...</td>\n",
       "    </tr>\n",
       "    <tr>\n",
       "      <th>1</th>\n",
       "      <td>-1.4721797331394337</td>\n",
       "      <td>53.38037667966202</td>\n",
       "      <td>1000</td>\n",
       "      <td>foot-walking</td>\n",
       "      <td>24151</td>\n",
       "      <td>POLYGON ((-1.48716 53.37802, -1.48715 53.37795...</td>\n",
       "    </tr>\n",
       "    <tr>\n",
       "      <th>2</th>\n",
       "      <td>-1.4693382</td>\n",
       "      <td>53.3830177</td>\n",
       "      <td>1000</td>\n",
       "      <td>foot-walking</td>\n",
       "      <td>20865</td>\n",
       "      <td>POLYGON ((-1.48472 53.38114, -1.4847 53.38105,...</td>\n",
       "    </tr>\n",
       "  </tbody>\n",
       "</table>\n",
       "</div>"
      ]
     },
     "execution_count": 10,
     "metadata": {},
     "output_type": "execute_result"
    }
   ],
   "execution_count": 10
  },
  {
   "metadata": {},
   "cell_type": "markdown",
   "source": [
    "This isochrones dataframe can now be used to generate routes from the isochrones to the original points. \\\n",
    "Please refer to the 'Generating routes' notebook for more information on how to do this. \\"
   ],
   "id": "6b4ac87055281995"
  },
  {
   "metadata": {},
   "cell_type": "code",
   "outputs": [],
   "execution_count": null,
   "source": "",
   "id": "aff7d999b24834a3"
  }
 ],
 "metadata": {
  "kernelspec": {
   "display_name": "Python 3",
   "language": "python",
   "name": "python3"
  },
  "language_info": {
   "codemirror_mode": {
    "name": "ipython",
    "version": 2
   },
   "file_extension": ".py",
   "mimetype": "text/x-python",
   "name": "python",
   "nbconvert_exporter": "python",
   "pygments_lexer": "ipython2",
   "version": "2.7.6"
  }
 },
 "nbformat": 4,
 "nbformat_minor": 5
}
