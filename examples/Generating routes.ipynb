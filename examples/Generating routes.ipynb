{
 "cells": [
  {
   "metadata": {},
   "cell_type": "markdown",
   "source": "# Generating routes",
   "id": "7a621d4077327b2f"
  },
  {
   "metadata": {},
   "cell_type": "markdown",
   "source": "This notebook demonstrates how to generate routes from isochrones to a point.\n",
   "id": "e30ec545435de603"
  },
  {
   "metadata": {},
   "cell_type": "markdown",
   "source": "## Step 1: Import the googleroutes library and access api key",
   "id": "8213b9cc871c2796"
  },
  {
   "metadata": {},
   "cell_type": "code",
   "source": [
    "%pip install googleroutes\n",
    "%pip install python-dotenv # OPTIONAL - for loading environment variables"
   ],
   "id": "a16cb8808536d7cc",
   "outputs": [],
   "execution_count": null
  },
  {
   "cell_type": "code",
   "id": "initial_id",
   "metadata": {
    "collapsed": true,
    "ExecuteTime": {
     "end_time": "2025-05-13T12:03:43.873564Z",
     "start_time": "2025-05-13T12:03:43.867551Z"
    }
   },
   "source": [
    "import os\n",
    "from dotenv import load_dotenv # OPTIONAL - for loading environment variables"
   ],
   "outputs": [],
   "execution_count": 1
  },
  {
   "metadata": {
    "ExecuteTime": {
     "end_time": "2025-05-13T12:03:45.564812Z",
     "start_time": "2025-05-13T12:03:45.561802Z"
    }
   },
   "cell_type": "code",
   "source": [
    "# This is optional, you can use your preferred method to load the api key\n",
    "load_dotenv()\n",
    "api_key = os.getenv(\"API_KEY\")"
   ],
   "id": "93819035d63b1fb2",
   "outputs": [],
   "execution_count": 2
  },
  {
   "metadata": {},
   "cell_type": "markdown",
   "source": [
    " ## Step 2: initialise the client using your api key\n",
    "When starting the client, the global CRS is set. You may wish to specify this, however the default is EPSG:4326 which is what the GoogleMaps API uses."
   ],
   "id": "4da3d7771fdbfd28"
  },
  {
   "metadata": {
    "ExecuteTime": {
     "end_time": "2025-05-13T12:03:51.429893Z",
     "start_time": "2025-05-13T12:03:50.778376Z"
    }
   },
   "cell_type": "code",
   "source": [
    "import googleroutes as gr\n",
    "\n",
    "gr.start_client(api_key, crs=\"EPSG:4326\")"
   ],
   "id": "a268aea416f4534e",
   "outputs": [
    {
     "name": "stdout",
     "output_type": "stream",
     "text": [
      "Google Maps client started.\n"
     ]
    }
   ],
   "execution_count": 3
  },
  {
   "metadata": {},
   "cell_type": "markdown",
   "source": "## Step 3: Load in the places dataframe and isochrones dataframe",
   "id": "d35222164e53af39"
  },
  {
   "metadata": {
    "ExecuteTime": {
     "end_time": "2025-05-13T12:05:44.815926Z",
     "start_time": "2025-05-13T12:05:44.805905Z"
    }
   },
   "cell_type": "code",
   "source": [
    "import geopandas as gpd\n",
    "\n",
    "places = gpd.read_file('places.gpkg')\n",
    "isochrones = gpd.read_file('isochrones.gpkg')"
   ],
   "id": "b45583df0b83ac5b",
   "outputs": [],
   "execution_count": 7
  },
  {
   "metadata": {},
   "cell_type": "markdown",
   "source": [
    "## Step 4: Merge the schools and isochrones dataframes on the school names\n",
    "This allows us to call the generator function on this merged dataframe. \\par\n",
    "The geometry column of merged_df should be the isochrones geometry, the school coords can be accessed from the isochrones dataframe."
   ],
   "id": "18966625550bfa28"
  },
  {
   "metadata": {
    "ExecuteTime": {
     "end_time": "2025-05-13T12:05:45.748969Z",
     "start_time": "2025-05-13T12:05:45.744582Z"
    }
   },
   "cell_type": "code",
   "source": "merged_df = isochrones.merge(places[['place', ]]) # merge on school name",
   "id": "cf4d9770f22a8c0e",
   "outputs": [],
   "execution_count": 8
  },
  {
   "metadata": {
    "ExecuteTime": {
     "end_time": "2025-05-13T12:05:56.303451Z",
     "start_time": "2025-05-13T12:05:56.298453Z"
    }
   },
   "cell_type": "code",
   "source": "merged_df # geometry column should be the isochrones geometry",
   "id": "c9e57d2abb811ca2",
   "outputs": [
    {
     "data": {
      "text/plain": [
       "            place           CENTER_LON         CENTER_LAT  AA_METERS  \\\n",
       "0  Hicks Building  -1.4864656622895907  53.38123290077746       1000   \n",
       "1       Town Hall  -1.4721797331394337  53.38037667966202       1000   \n",
       "2       Cathedral           -1.4693382         53.3830177       1000   \n",
       "\n",
       "        AA_MODE TOTAL_POP                                           geometry  \n",
       "0  foot-walking     27508  POLYGON ((-1.50081 53.37849, -1.50029 53.37709...  \n",
       "1  foot-walking     24151  POLYGON ((-1.48716 53.37802, -1.48715 53.37795...  \n",
       "2  foot-walking     20865  POLYGON ((-1.48472 53.38114, -1.4847 53.38105,...  "
      ],
      "text/html": [
       "<div>\n",
       "<style scoped>\n",
       "    .dataframe tbody tr th:only-of-type {\n",
       "        vertical-align: middle;\n",
       "    }\n",
       "\n",
       "    .dataframe tbody tr th {\n",
       "        vertical-align: top;\n",
       "    }\n",
       "\n",
       "    .dataframe thead th {\n",
       "        text-align: right;\n",
       "    }\n",
       "</style>\n",
       "<table border=\"1\" class=\"dataframe\">\n",
       "  <thead>\n",
       "    <tr style=\"text-align: right;\">\n",
       "      <th></th>\n",
       "      <th>place</th>\n",
       "      <th>CENTER_LON</th>\n",
       "      <th>CENTER_LAT</th>\n",
       "      <th>AA_METERS</th>\n",
       "      <th>AA_MODE</th>\n",
       "      <th>TOTAL_POP</th>\n",
       "      <th>geometry</th>\n",
       "    </tr>\n",
       "  </thead>\n",
       "  <tbody>\n",
       "    <tr>\n",
       "      <th>0</th>\n",
       "      <td>Hicks Building</td>\n",
       "      <td>-1.4864656622895907</td>\n",
       "      <td>53.38123290077746</td>\n",
       "      <td>1000</td>\n",
       "      <td>foot-walking</td>\n",
       "      <td>27508</td>\n",
       "      <td>POLYGON ((-1.50081 53.37849, -1.50029 53.37709...</td>\n",
       "    </tr>\n",
       "    <tr>\n",
       "      <th>1</th>\n",
       "      <td>Town Hall</td>\n",
       "      <td>-1.4721797331394337</td>\n",
       "      <td>53.38037667966202</td>\n",
       "      <td>1000</td>\n",
       "      <td>foot-walking</td>\n",
       "      <td>24151</td>\n",
       "      <td>POLYGON ((-1.48716 53.37802, -1.48715 53.37795...</td>\n",
       "    </tr>\n",
       "    <tr>\n",
       "      <th>2</th>\n",
       "      <td>Cathedral</td>\n",
       "      <td>-1.4693382</td>\n",
       "      <td>53.3830177</td>\n",
       "      <td>1000</td>\n",
       "      <td>foot-walking</td>\n",
       "      <td>20865</td>\n",
       "      <td>POLYGON ((-1.48472 53.38114, -1.4847 53.38105,...</td>\n",
       "    </tr>\n",
       "  </tbody>\n",
       "</table>\n",
       "</div>"
      ]
     },
     "execution_count": 10,
     "metadata": {},
     "output_type": "execute_result"
    }
   ],
   "execution_count": 10
  },
  {
   "metadata": {},
   "cell_type": "markdown",
   "source": [
    "## Step 5: generating routes and how to format the input\n",
    "The following are required for the generator function:\n",
    "- A geometry column in the dataframe that contains the isochrones geometry\n",
    "- A column in the dataframe that contains the place name\n",
    "- 2 columns containing the longitude and latitude of the place coords\n",
    "\n",
    "Considerations:\n",
    "- Supply the coords column names as a tuple of (longitude, latitude) : if you have generated the isochrones using the OpenRouteService isochrone generator, the column names will be 'CENTER_LON' and 'CENTER_LAT'\n",
    "- If the dataframe contains a geopandas geometry column, this will be used as the geometry column\n",
    "- The routes_output must be a directory as multiple files will be generated\n",
    "\n"
   ],
   "id": "8d97c565a153c3d4"
  },
  {
   "metadata": {
    "ExecuteTime": {
     "end_time": "2025-05-13T12:07:35.030650Z",
     "start_time": "2025-05-13T12:07:24.270267Z"
    }
   },
   "cell_type": "code",
   "source": "gr.generate_from_isochrones(dataframe=merged_df, schools_column='place', school_coords_column=('CENTER_LON', 'CENTER_LAT'), mode='walking', driver='GPKG', routes_output='example_routes')",
   "id": "5357435ce9ba2b2",
   "outputs": [],
   "execution_count": 12
  },
  {
   "metadata": {},
   "cell_type": "markdown",
   "source": [
    "The routes are automatically saved in the specified directory, in seperate files for each place. \\\n",
    "To view the routes in QGIS, you can use the following script in the QGIS python scripter to load the files into a new group:"
   ],
   "id": "65f8651c5519e273"
  },
  {
   "metadata": {
    "ExecuteTime": {
     "end_time": "2025-05-13T12:14:21.871075Z",
     "start_time": "2025-05-13T12:14:21.861378Z"
    }
   },
   "cell_type": "code",
   "source": [
    "import os\n",
    "\n",
    "root = 'path/to/folder/containing/routes'\n",
    "proj = QgsProject.instance().layerTreeRoot()\n",
    "\n",
    "group = proj.insertGroup(0, 'YOUR_GROUP_NAME')\n",
    "\n",
    "for file in os.listdir(root):\n",
    "    if file == 'desktop.ini': # specific to our project which was saved on GoogleDrive which creates this file\n",
    "        continue\n",
    "    if not file.endswith('.gpkg'): # change to .shp if using shapefiles or .geojson if using geojson files\n",
    "        continue\n",
    "    print(file)\n",
    "    layer = QgsVectorLayer(f'{root}/{file}', file[:-4], 'ogr') # file[:-4] removes the .gpkg extension. Change to file[:-3] if using .shp files or file[:-7] for .geojson files\n",
    "    QgsProject.instance().addMapLayer(layer, False)\n",
    "    group.insertChildNode(1, QgsLayerTreeLayer(layer))\n",
    "\n",
    "\n",
    "# NOTE: The above code is specific to the QGIS python scripter and may not work in other environments.\n",
    "\n"
   ],
   "id": "fba2d422268748bd",
   "outputs": [
    {
     "ename": "NameError",
     "evalue": "name 'QgsProject' is not defined",
     "output_type": "error",
     "traceback": [
      "\u001B[1;31m---------------------------------------------------------------------------\u001B[0m",
      "\u001B[1;31mNameError\u001B[0m                                 Traceback (most recent call last)",
      "Cell \u001B[1;32mIn[13], line 4\u001B[0m\n\u001B[0;32m      1\u001B[0m \u001B[38;5;28;01mimport\u001B[39;00m \u001B[38;5;21;01mos\u001B[39;00m\n\u001B[0;32m      3\u001B[0m root \u001B[38;5;241m=\u001B[39m \u001B[38;5;124m'\u001B[39m\u001B[38;5;124mpath/to/folder/containing/routes\u001B[39m\u001B[38;5;124m'\u001B[39m\n\u001B[1;32m----> 4\u001B[0m proj \u001B[38;5;241m=\u001B[39m \u001B[43mQgsProject\u001B[49m\u001B[38;5;241m.\u001B[39minstance()\u001B[38;5;241m.\u001B[39mlayerTreeRoot()\n\u001B[0;32m      6\u001B[0m group \u001B[38;5;241m=\u001B[39m proj\u001B[38;5;241m.\u001B[39minsertGroup(\u001B[38;5;241m0\u001B[39m, \u001B[38;5;124m'\u001B[39m\u001B[38;5;124mYOUR_GROUP_NAME\u001B[39m\u001B[38;5;124m'\u001B[39m)\n\u001B[0;32m      8\u001B[0m \u001B[38;5;28;01mfor\u001B[39;00m file \u001B[38;5;129;01min\u001B[39;00m os\u001B[38;5;241m.\u001B[39mlistdir(root):\n",
      "\u001B[1;31mNameError\u001B[0m: name 'QgsProject' is not defined"
     ]
    }
   ],
   "execution_count": 13
  },
  {
   "metadata": {},
   "cell_type": "code",
   "outputs": [],
   "execution_count": null,
   "source": "",
   "id": "c9ef8ae57dcc7ad0"
  }
 ],
 "metadata": {
  "kernelspec": {
   "display_name": "Python 3",
   "language": "python",
   "name": "python3"
  },
  "language_info": {
   "codemirror_mode": {
    "name": "ipython",
    "version": 2
   },
   "file_extension": ".py",
   "mimetype": "text/x-python",
   "name": "python",
   "nbconvert_exporter": "python",
   "pygments_lexer": "ipython2",
   "version": "2.7.6"
  }
 },
 "nbformat": 4,
 "nbformat_minor": 5
}
